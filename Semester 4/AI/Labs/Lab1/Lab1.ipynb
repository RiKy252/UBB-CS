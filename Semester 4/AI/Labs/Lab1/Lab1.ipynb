{
 "cells": [
  {
   "cell_type": "code",
   "execution_count": 51,
   "id": "cdee29a9",
   "metadata": {},
   "outputs": [
    {
     "name": "stdout",
     "output_type": "stream",
     "text": [
      "Spinner random index generated = 2\n",
      "Circle random index generated = 2\n"
     ]
    }
   ],
   "source": [
    "# Task 6\n",
    "import random\n",
    "\n",
    "\n",
    "def spinner(probabilityDistribution):\n",
    "    randomNumber = random.random()\n",
    "    probabilities = []\n",
    "    probabilitiesSum = 0\n",
    "    \n",
    "    for p in probabilityDistribution:\n",
    "        probabilitiesSum += p\n",
    "        probabilities.append(probabilitiesSum)\n",
    "    \n",
    "    for i in range(len(probabilities)):\n",
    "        if randomNumber < probabilities[i]:\n",
    "            return i\n",
    "    \n",
    "\n",
    "print(\"Spinner random index generated = \" + str(spinner([0.1, 0.3, 0.4, 0.2])))\n",
    "\n",
    "\n",
    "def centerAngleSpinner(degreeList):\n",
    "    randomNumber = random.random()\n",
    "    totalDegree = sum(degreeList)\n",
    "\n",
    "    pdf = []\n",
    "    for degree in degreeList:\n",
    "        degreeProbability = degree / totalDegree\n",
    "        pdf.append(degreeProbability)\n",
    "    \n",
    "    probabilities = []\n",
    "    probabilitiesSum = 0\n",
    "\n",
    "    for p in pdf:\n",
    "        probabilitiesSum += p\n",
    "        probabilities.append(probabilitiesSum)\n",
    "    \n",
    "    for i in range(len(probabilities)):\n",
    "        if randomNumber < probabilities[i]:\n",
    "            return i\n",
    "\n",
    "\n",
    "print(\"Circle random index generated = \" + str(centerAngleSpinner([45, 85, 70, 150])))\n"
   ]
  },
  {
   "cell_type": "code",
   "execution_count": 54,
   "id": "f8267135",
   "metadata": {},
   "outputs": [
    {
     "name": "stdout",
     "output_type": "stream",
     "text": [
      "Mathematical Probability = 0.26420794216\n",
      "Monte Carlo Simulation Probability (1milion trials) = 0.264147\n"
     ]
    }
   ],
   "source": [
    "# Task 7 \n",
    "# Mathematical probability\n",
    "# Ball = 1cm\n",
    "# Pipe Radius = 30cm\n",
    "# -> 30 - 1 = 29cm of effective use (meaning that a ball falls into the pipe)\n",
    "# 1m = 100cm = square length\n",
    "# p = circleArea / squareArea\n",
    "# circleArea = pi * 29^2\n",
    "# squareArea = 100 * 100\n",
    "# => p = 0.26420794216\n",
    "\n",
    "print(\"Mathematical Probability = 0.26420794216\")\n",
    "\n",
    "\n",
    "def monteCarloSimulation(nrTrials):\n",
    "    R = 30\n",
    "    r = 1\n",
    "    L = 100\n",
    "    radius = R - r\n",
    "    successfulBalls = 0\n",
    "\n",
    "    for _ in range(nrTrials):\n",
    "        x = random.uniform(-L/2, L/2)\n",
    "        y = random.uniform(-L/2, L/2)\n",
    "        if x**2 + y**2 <= radius**2:\n",
    "            successfulBalls += 1\n",
    "    \n",
    "    return successfulBalls / nrTrials\n",
    "\n",
    "\n",
    "print(\"Monte Carlo Simulation Probability (1milion trials) = \" + str(monteCarloSimulation(1000000)))\n"
   ]
  }
 ],
 "metadata": {
  "kernelspec": {
   "display_name": "base",
   "language": "python",
   "name": "python3"
  },
  "language_info": {
   "codemirror_mode": {
    "name": "ipython",
    "version": 3
   },
   "file_extension": ".py",
   "mimetype": "text/x-python",
   "name": "python",
   "nbconvert_exporter": "python",
   "pygments_lexer": "ipython3",
   "version": "3.12.7"
  }
 },
 "nbformat": 4,
 "nbformat_minor": 5
}
