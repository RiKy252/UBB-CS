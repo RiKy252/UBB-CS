{
 "cells": [
  {
   "cell_type": "code",
   "execution_count": 4,
   "metadata": {},
   "outputs": [
    {
     "name": "stdout",
     "output_type": "stream",
     "text": [
      "   customerID  gender  SeniorCitizen  Partner  Dependents    tenure  \\\n",
      "0  7590-VHVEG     0.0              0      1.0         0.0 -1.280248   \n",
      "1  5575-GNVDE     1.0              0      0.0         0.0  0.064303   \n",
      "2  3668-QPYBK     1.0              0      0.0         0.0 -1.239504   \n",
      "3  7795-CFOCW     1.0              0      0.0         0.0  0.512486   \n",
      "4  9237-HQITU     0.0              0      0.0         0.0 -1.239504   \n",
      "\n",
      "   PhoneService  MultipleLines  InternetService  OnlineSecurity  ...  \\\n",
      "0           0.0            1.0              0.0             0.0  ...   \n",
      "1           1.0            0.0              0.0             2.0  ...   \n",
      "2           1.0            0.0              0.0             2.0  ...   \n",
      "3           0.0            1.0              0.0             2.0  ...   \n",
      "4           1.0            0.0              1.0             0.0  ...   \n",
      "\n",
      "   DeviceProtection  TechSupport  StreamingTV  StreamingMovies  Contract  \\\n",
      "0               0.0          0.0          0.0              0.0       0.0   \n",
      "1               2.0          0.0          0.0              0.0       1.0   \n",
      "2               0.0          0.0          0.0              0.0       0.0   \n",
      "3               2.0          2.0          0.0              0.0       1.0   \n",
      "4               0.0          0.0          0.0              0.0       0.0   \n",
      "\n",
      "   PaperlessBilling  PaymentMethod  MonthlyCharges  TotalCharges  Churn  \n",
      "0               1.0            2.0       -1.161694     -0.994194    0.0  \n",
      "1               0.0            3.0       -0.260878     -0.173740    0.0  \n",
      "2               1.0            3.0       -0.363923     -0.959649    1.0  \n",
      "3               0.0            0.0       -0.747850     -0.195248    0.0  \n",
      "4               1.0            2.0        0.196178     -0.940457    1.0  \n",
      "\n",
      "[5 rows x 21 columns]\n"
     ]
    }
   ],
   "source": [
    "# Exercise 1\n",
    "\n",
    "import pandas as pd\n",
    "from sklearn import preprocessing\n",
    "\n",
    "file_path = 'WA_Fn-UseC_-Telco-Customer-Churn.csv'\n",
    "dataset = pd.read_csv(file_path) \n",
    "\n",
    "# We clean the dataset by removing the rows with missing values (incomplete data)\n",
    "dataset.replace(' ', pd.NA, inplace=True)\n",
    "dataset = dataset.dropna()\n",
    "\n",
    "# Categorical columns encoding\n",
    "label_encoder = preprocessing.OrdinalEncoder()\n",
    "categorical_columns = [['gender', 'Partner', 'Dependents', 'PhoneService', 'MultipleLines', 'InternetService',\n",
    "           'OnlineSecurity', 'OnlineBackup', 'DeviceProtection', 'TechSupport', 'StreamingTV',\n",
    "           'StreamingMovies', 'Contract', 'PaperlessBilling', 'PaymentMethod', 'Churn']]\n",
    "label_encoder.fit(categorical_columns)\n",
    "\n",
    "for column in categorical_columns:\n",
    "    dataset[column] = label_encoder.fit_transform(dataset[column])\n",
    "\n",
    "# Numerical columns scaling\n",
    "scaler = StandardScaler()\n",
    "numerical_columns = ['tenure', 'MonthlyCharges', 'TotalCharges'] \n",
    "\n",
    "dataset[numerical_columns] = scaler.fit_transform(dataset[numerical_columns])\n",
    "\n",
    "print(dataset.head())"
   ]
  },
  {
   "cell_type": "code",
   "execution_count": null,
   "metadata": {},
   "outputs": [],
   "source": [
    "# Exercise 2"
   ]
  }
 ],
 "metadata": {
  "kernelspec": {
   "display_name": "base",
   "language": "python",
   "name": "python3"
  },
  "language_info": {
   "codemirror_mode": {
    "name": "ipython",
    "version": 3
   },
   "file_extension": ".py",
   "mimetype": "text/x-python",
   "name": "python",
   "nbconvert_exporter": "python",
   "pygments_lexer": "ipython3",
   "version": "3.12.7"
  }
 },
 "nbformat": 4,
 "nbformat_minor": 2
}
