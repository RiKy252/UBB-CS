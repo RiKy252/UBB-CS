{
  "cells": [
    {
      "cell_type": "markdown",
      "id": "b246b6ac",
      "metadata": {},
      "source": [
        "## A.I. Assignment 4\n",
        "\n",
        "## Learning Goals\n",
        "\n",
        "By the end of this lab, you should be able to:\n",
        "* Get familiar with tensors in pytorch\n",
        "* Get familiar with the activation functions for ANN \n",
        "* Create a simple perceptron model with pytorch\n",
        "\n"
      ]
    },
    {
      "cell_type": "markdown",
      "id": "8247d8bb",
      "metadata": {},
      "source": [
        "## Common activation functions for ANN:\n",
        "\n",
        "##### Sigmoid:\n",
        "\n",
        "The sigmoid function is a popular choice for activation functions in neural networks. It has an $S-shaped$ curve:\n",
        "$$f(x) = \\frac{1}{1+e^{-x}}.$$\n",
        "\n",
        "It has a number of appealing qualities:\n",
        "\n",
        "1. *Nonlinearity*: Because the sigmoid function is nonlinear, it enables the neural network to simulate nonlinear interactions between inputs and outputs. A neural network would simply be a linear model without a nonlinear activation function like sigmoid, which would significantly restrict its capacity to describe complex relationships.\n",
        "\n",
        "1. *Smoothness*: As the sigmoid function is differentiable and smooth, its derivative exist at every point. This is significant because it makes it possible for neural network training techniques based on gradients (such as backpropagation) to perform well.\n",
        "\n",
        "1. *Boundedness*: The sigmoid function is bounded between 0 and 1, it means  its outputs can be interpreted as probabilities.  It is most useful in applications like binary classification, where the goal is to predict whether an input belongs to one of two classes.\n",
        "\n",
        "1. *Monotonicity*: The sigmoid function is monotonic, which means that its outputs are always increasing or always decreasing with respect to its inputs. This makes it easy to interpret the effect of changes in input variables on the output of the network.\n",
        "\n",
        "##### ReLU (Rectified Linear Unit):\n",
        "\n",
        "The ReLU function is defined as $$f(x) = max(0, x).$$\n",
        "\n",
        "It is a widely used activation function in deep learning due to its simplicity and effectiveness.\n",
        "\n",
        "##### Tanh (Hyperbolic Tangent):\n",
        "\n",
        "The $\\tanh$ function is similar to the sigmoid function but produces outputs in the interval $[-1, 1]$:  \n",
        "$$f(x) = \\frac{e^{x}-e^{-x}}{e^{x}+e^{-x}}.$$\n",
        "\n",
        "##### Softmax:\n",
        "\n",
        "The softmax function is commonly used in the output layer of a neural network for multi-class classification problems. It normalizes the output into a probability distribution over the classes.\n",
        "\n",
        "Given a vector $\\vec{z}$ of $n$ real numbers, the softmax function calculates a vector $\\vec{s}$ of $n$ real numbers with the components:\n",
        "$$s_j = \\frac{e^{z_j}}{\\sum_{k=1}^{n} {e^{z_k}}}.$$\n",
        "\n",
        "\n",
        "##### Leaky ReLU:\n",
        "\n",
        "The Leaky ReLU is a variation of the ReLU function that introduces a small non-zero gradient for negative inputs. It is defined as \n",
        "$$f(x) = max(0.01 \\cdot x, x).$$\n",
        "\n",
        "##### ELU (Exponential Linear Unit):\n",
        "\n",
        "The ELU function is another variation of the ReLU function that introduces a small negative saturation value for negative inputs. It is defined as \n",
        "\n",
        "$$ f(x) = \\biggl\\{ \\begin{matrix} x, & for & x > 0 \\\\\n",
        "                      \\alpha \\cdot (e^{x} - 1), & for & x \\leq 0 \\end{matrix}$$\n",
        "where $\\alpha$ is a hyperparameter.\n",
        "\n",
        "##### Swish:\n",
        "\n",
        "The Swish function is a recent activation function that is a smooth approximation of the ReLU function. It is defined as f(x) = x * sigmoid(x).\n"
      ]
    },
    {
      "cell_type": "code",
      "execution_count": 1,
      "id": "68931328",
      "metadata": {},
      "outputs": [
        {
          "data": {
            "text/plain": [
              "False"
            ]
          },
          "execution_count": 1,
          "metadata": {},
          "output_type": "execute_result"
        }
      ],
      "source": [
        "import torch\n",
        "torch.cuda.is_available()"
      ]
    },
    {
      "cell_type": "markdown",
      "id": "93017ce5",
      "metadata": {},
      "source": [
        "create a tensor with requires_grad=True to tell PyTorch to track gradients for this tensor:"
      ]
    },
    {
      "cell_type": "code",
      "execution_count": 2,
      "id": "a14b6a39",
      "metadata": {},
      "outputs": [
        {
          "name": "stdout",
          "output_type": "stream",
          "text": [
            "tensor([2.], requires_grad=True)\n"
          ]
        }
      ],
      "source": [
        "x = torch.tensor([2.0], requires_grad=True)\n",
        "print(x)"
      ]
    },
    {
      "cell_type": "markdown",
      "id": "56340210",
      "metadata": {},
      "source": [
        "You can perform any operations on this tensor as usual:"
      ]
    },
    {
      "cell_type": "code",
      "execution_count": 3,
      "id": "99cb5a71",
      "metadata": {},
      "outputs": [
        {
          "name": "stdout",
          "output_type": "stream",
          "text": [
            "tensor([9.], grad_fn=<AddBackward0>)\n"
          ]
        }
      ],
      "source": [
        "y = x ** 2 + 2 * x + 1\n",
        "print(y)"
      ]
    },
    {
      "cell_type": "markdown",
      "id": "af8a18dc",
      "metadata": {},
      "source": [
        "To compute the gradients of y with respect to x, you need to call backward() on y:"
      ]
    },
    {
      "cell_type": "code",
      "execution_count": 4,
      "id": "8c244acf",
      "metadata": {},
      "outputs": [],
      "source": [
        "y.backward()"
      ]
    },
    {
      "cell_type": "code",
      "execution_count": 5,
      "id": "0e9b7e33",
      "metadata": {},
      "outputs": [
        {
          "data": {
            "text/plain": [
              "tensor([6.])"
            ]
          },
          "execution_count": 5,
          "metadata": {},
          "output_type": "execute_result"
        }
      ],
      "source": [
        "x.grad"
      ]
    },
    {
      "cell_type": "code",
      "execution_count": 6,
      "id": "87ce525b",
      "metadata": {},
      "outputs": [
        {
          "name": "stdout",
          "output_type": "stream",
          "text": [
            "tensor([1., 1., 1.])\n"
          ]
        }
      ],
      "source": [
        "import torch\n",
        "\n",
        "# Create a tensor with requires_grad=True\n",
        "x = torch.tensor([1., 2., 3.], requires_grad=True)\n",
        "\n",
        "# Compute a function of x\n",
        "y = x.sum()\n",
        "\n",
        "# Compute gradients of y with respect to x\n",
        "y.backward()\n",
        "\n",
        "# Print gradients of x\n",
        "print(x.grad)\n"
      ]
    },
    {
      "cell_type": "markdown",
      "id": "30804b8c",
      "metadata": {},
      "source": [
        "Exercise 1.\n",
        "\n",
        "Compute the gradient for the sigmoid activation function in 2 points using pytorch and check it with the known explicit formula "
      ]
    },
    {
      "cell_type": "code",
      "execution_count": 7,
      "id": "2dc94902",
      "metadata": {},
      "outputs": [
        {
          "name": "stdout",
          "output_type": "stream",
          "text": [
            "tensor([0.1966, 0.1050])\n",
            "tensor([0.1966, 0.1050], grad_fn=<MulBackward0>)\n"
          ]
        }
      ],
      "source": [
        "x = torch.tensor([1.,2.], requires_grad=True)\n",
        "y = torch.sigmoid(x)\n",
        "y.backward(torch.ones_like(x))\n",
        "gradients = x.grad\n",
        "print(gradients)\n",
        "\n",
        "explicit_gradients = torch.sigmoid(x) * (1 - torch.sigmoid(x))\n",
        "print(explicit_gradients)"
      ]
    },
    {
      "cell_type": "markdown",
      "id": "7e77a45c",
      "metadata": {},
      "source": [
        "Exercise 2.\n",
        "\n",
        "Compute the gradient for the linear activation function in 2 points using pytorch and check it with the known explicit formula"
      ]
    },
    {
      "cell_type": "code",
      "execution_count": 8,
      "id": "7054039e",
      "metadata": {},
      "outputs": [
        {
          "name": "stdout",
          "output_type": "stream",
          "text": [
            "tensor([1., 1.])\n",
            "tensor([1., 1.])\n"
          ]
        }
      ],
      "source": [
        "\n",
        "x = torch.tensor([1.,2.], requires_grad=True)\n",
        "\n",
        "y = x\n",
        "    \n",
        "y.backward(torch.ones_like(x))\n",
        "gradients = x.grad\n",
        "print(gradients)\n",
        "\n",
        "#The gradient is always 1 for the linear activation\n",
        "explicit_gradients = torch.ones_like(x)\n",
        "print(explicit_gradients)"
      ]
    },
    {
      "cell_type": "markdown",
      "id": "dab117e3",
      "metadata": {},
      "source": [
        "Execise 3.\n",
        "\n",
        "Compute the gradient for the relu activation function in 2 points using pytorch and check it with the known explicit formula."
      ]
    },
    {
      "cell_type": "code",
      "execution_count": 9,
      "id": "1f69f4c5",
      "metadata": {},
      "outputs": [
        {
          "name": "stdout",
          "output_type": "stream",
          "text": [
            "tensor([1., 0.], grad_fn=<ThresholdBackwardBackward0>)\n",
            "[1. 0.]\n"
          ]
        }
      ],
      "source": [
        "import numpy as np\n",
        "\n",
        "x = torch.randn(2, requires_grad=True)\n",
        "y_relu = torch.nn.functional.relu(x)\n",
        "gradient = torch.autograd.grad(y_relu, x, torch.ones_like(y_relu), create_graph=True)[0]\n",
        "\n",
        "print(gradient)\n",
        "\n",
        "def relu_gradient(x):\n",
        "    data = [1 if value>0 else 0 for value in x]\n",
        "    return np.array(data, dtype=float)\n",
        "\n",
        "explicit_gradients = relu_gradient(x)\n",
        "print(explicit_gradients)"
      ]
    },
    {
      "cell_type": "markdown",
      "id": "ef985f68",
      "metadata": {},
      "source": [
        "Exercise 4. \n",
        "\n",
        "Write in python a function to plot the sigmoid activation function and its gradient using matplotlib"
      ]
    },
    {
      "cell_type": "code",
      "execution_count": 10,
      "id": "6c645aaf",
      "metadata": {},
      "outputs": [
        {
          "data": {
            "text/plain": [
              "Text(0, 0.5, \"sigmoid'(x)\")"
            ]
          },
          "execution_count": 10,
          "metadata": {},
          "output_type": "execute_result"
        },
        {
          "data": {
            "image/png": "[encoded data removed]",
            "text/plain": [
              "<Figure size 1000x500 with 1 Axes>"
            ]
          },
          "metadata": {},
          "output_type": "display_data"
        }
      ],
      "source": [
        "import matplotlib.pyplot as plt\n",
        "\n",
        "x = torch.linspace(-10, 10, 100, requires_grad=True)\n",
        "y_sigmoid = torch.sigmoid(x)\n",
        "y_gradient = torch.sigmoid(x) * (1 - torch.sigmoid(x))\n",
        "\n",
        "#Plotting the sigmoid function\n",
        "plt.figure(figsize=(10, 5))\n",
        "plt.subplot(1, 2, 1)\n",
        "plt.plot(x.detach().numpy(), y_sigmoid.detach().numpy(), label='Sigmoid', color='blue')\n",
        "plt.xlabel('x')\n",
        "plt.ylabel('sigmoid(x)')\n",
        "plt.grid(True)\n",
        "plt.legend()\n",
        "\n",
        "#Plotting the sigmoid gradinent\n",
        "plt.subplot(1, 2, 1)\n",
        "plt.plot(x.detach().numpy(),y_gradient.detach().numpy(), label='Gradient', color='green')\n",
        "plt.xlabel('x')\n",
        "plt.ylabel('sigmoid\\'(x)')"
      ]
    },
    {
      "cell_type": "markdown",
      "id": "51202a51",
      "metadata": {},
      "source": [
        "Exercise 5. \n",
        "\n",
        "Write in python a function to plot the ReLU activation function and its gradient using matplotlib."
      ]
    },
    {
      "cell_type": "code",
      "execution_count": 11,
      "id": "99e49c47",
      "metadata": {},
      "outputs": [
        {
          "data": {
            "text/plain": [
              "[<matplotlib.lines.Line2D at 0x2b0468447d0>]"
            ]
          },
          "execution_count": 11,
          "metadata": {},
          "output_type": "execute_result"
        },
        {
          "data": {
            "image/png": "[encoded data removed]",
            "text/plain": [
              "<Figure size 1000x500 with 1 Axes>"
            ]
          },
          "metadata": {},
          "output_type": "display_data"
        }
      ],
      "source": [
        "x = torch.linspace(-10,10,100, requires_grad=True)\n",
        "y_relu = torch.nn.functional.relu(x)\n",
        "y_gradient = torch.autograd.grad(y_relu, x, torch.ones_like(y_relu))[0]\n",
        "\n",
        "plt.figure(figsize=(10,5))\n",
        "plt.subplot(1,2,1)\n",
        "\n",
        "plt.plot(x.detach().numpy(), y_relu.detach().numpy(), label='ReLU', color='red')\n",
        "plt.title('ReLU')\n",
        "plt.xlabel('x')\n",
        "plt.ylabel('ReLU(x)')\n",
        "plt.grid(True)\n",
        "plt.legend()\n",
        "\n",
        "plt.plot(x.detach().numpy(), y_gradient.detach().numpy(), label='Gradient', color='purple')"
      ]
    },
    {
      "cell_type": "markdown",
      "id": "c81684ff",
      "metadata": {},
      "source": [
        "Exercise 6. \n",
        "\n",
        "Write in python a function to plot the tanh activation function and its gradient using matplotlib."
      ]
    },
    {
      "cell_type": "code",
      "execution_count": 12,
      "id": "559d421d",
      "metadata": {},
      "outputs": [
        {
          "data": {
            "text/plain": [
              "[<matplotlib.lines.Line2D at 0x2b046896ff0>]"
            ]
          },
          "execution_count": 12,
          "metadata": {},
          "output_type": "execute_result"
        },
        {
          "data": {
            "image/png": "[encoded data removed]",
            "text/plain": [
              "<Figure size 1000x500 with 1 Axes>"
            ]
          },
          "metadata": {},
          "output_type": "display_data"
        }
      ],
      "source": [
        "x = torch.linspace(-10,10,100, requires_grad=True)\n",
        "y_tanh = torch.tanh(x)\n",
        "y_gradient = torch.autograd.grad(y_tanh, x, torch.ones_like(y_tanh))[0]\n",
        "\n",
        "plt.figure(figsize=(10, 5))\n",
        "plt.subplot(1, 2, 1)\n",
        "\n",
        "plt.plot(x.detach().numpy(), y_tanh.detach().numpy(), label='tanh', color='magenta')\n",
        "plt.title('Tanh')\n",
        "plt.xlabel('x')\n",
        "plt.grid(True)\n",
        "plt.legend()\n",
        "\n",
        "plt.plot(x.detach().numpy(), y_gradient.detach().numpy(), label='Gradient', color='black')"
      ]
    },
    {
      "cell_type": "markdown",
      "id": "8740a0a8",
      "metadata": {},
      "source": [
        "Exercise 7. \n",
        "\n",
        "Write in python a function to plot the leaky ReLU activation function and its gradient using matplotlib."
      ]
    },
    {
      "cell_type": "code",
      "execution_count": 13,
      "id": "7b455646",
      "metadata": {},
      "outputs": [
        {
          "data": {
            "text/plain": [
              "[<matplotlib.lines.Line2D at 0x2b046920a10>]"
            ]
          },
          "execution_count": 13,
          "metadata": {},
          "output_type": "execute_result"
        },
        {
          "data": {
            "image/png": "[encoded data removed]",
            "text/plain": [
              "<Figure size 1000x500 with 1 Axes>"
            ]
          },
          "metadata": {},
          "output_type": "display_data"
        }
      ],
      "source": [
        "x = torch.linspace(-10,10,100, requires_grad=True)\n",
        "leaky = torch.nn.LeakyReLU()\n",
        "y_leaky = leaky(x)\n",
        "y_gradients = torch.autograd.grad(y_leaky, x, torch.ones_like(y_leaky))\n",
        "\n",
        "plt.figure(figsize=(10, 5))\n",
        "plt.subplot(1, 2, 1)\n",
        "\n",
        "plt.plot(x.detach().numpy(), y_leaky.detach().numpy(), label='leaky ReLU', color='orange')\n",
        "plt.title('Leaky ReLU')\n",
        "plt.xlabel('x')\n",
        "plt.grid(True)\n",
        "plt.legend()\n",
        "\n",
        "plt.plot(x.detach().numpy(), y_gradient.detach().numpy(), label='Gradient', color='brown')"
      ]
    },
    {
      "cell_type": "markdown",
      "id": "4e33119c",
      "metadata": {},
      "source": [
        "## Perceptron\n",
        "\n",
        "We define a class called *Perceptron* that inherits from *torch.nn.Module*. \n",
        "\n",
        "In the constructor, we define a single fully-connected linear layer with $input_dim$ inputs and $output_dim$ outputs, and a $sigmoid$ activation function. In the forward method, we apply the linear transformation to the input $x$, and then apply the sigmoid activation function to the output.\n",
        "\n"
      ]
    },
    {
      "cell_type": "code",
      "execution_count": 14,
      "id": "aa86d7c0",
      "metadata": {},
      "outputs": [],
      "source": [
        "import torch\n",
        "import torch.nn as nn\n",
        "\n",
        "input_size = 2\n",
        "output_size = 1\n",
        "\n",
        "class Perceptron(torch.nn.Module):\n",
        "    def __init__(self, input_dim, output_dim):\n",
        "        super(Perceptron, self).__init__()\n",
        "        self.linear = torch.nn.Linear(input_dim, output_dim)\n",
        "        self.activation = torch.nn.Sigmoid()\n",
        "        \n",
        "    def forward(self, x):\n",
        "        x = self.linear(x)\n",
        "        x = self.activation(x)\n",
        "        return x\n"
      ]
    },
    {
      "cell_type": "markdown",
      "id": "a178820e",
      "metadata": {},
      "source": [
        " We create an instance of this model and use it to make predictions like this:"
      ]
    },
    {
      "cell_type": "code",
      "execution_count": 15,
      "id": "78513e21",
      "metadata": {},
      "outputs": [
        {
          "name": "stdout",
          "output_type": "stream",
          "text": [
            "tensor([0.7474], grad_fn=<SigmoidBackward0>)\n"
          ]
        }
      ],
      "source": [
        "perceptron = Perceptron(input_size, output_size)\n",
        "x = torch.tensor([0.5, 0.2])\n",
        "y = perceptron(x)\n",
        "print(y)\n"
      ]
    },
    {
      "cell_type": "code",
      "execution_count": 16,
      "id": "54070b51",
      "metadata": {},
      "outputs": [
        {
          "name": "stdout",
          "output_type": "stream",
          "text": [
            "Epoch [100/1000], Loss: 0.5149\n",
            "Epoch [200/1000], Loss: 0.5007\n",
            "Epoch [300/1000], Loss: 0.4953\n",
            "Epoch [400/1000], Loss: 0.4928\n",
            "Epoch [500/1000], Loss: 0.4916\n",
            "Epoch [600/1000], Loss: 0.4910\n",
            "Epoch [700/1000], Loss: 0.4907\n",
            "Epoch [800/1000], Loss: 0.4905\n",
            "Epoch [900/1000], Loss: 0.4904\n",
            "Epoch [1000/1000], Loss: 0.4903\n"
          ]
        }
      ],
      "source": [
        "\n",
        "# Define the loss function and optimizer\n",
        "criterion = nn.BCELoss()  # Binary cross-entropy loss\n",
        "optimizer = torch.optim.SGD(perceptron.parameters(), lr=0.1)  # Stochastic gradient descent optimizer\n",
        "\n",
        "# Generate some random input data and labels\n",
        "input_data = torch.randn((10, input_size))\n",
        "labels = torch.randint(0, 2, (10, output_size)).float()\n",
        "\n",
        "# Train the model\n",
        "num_epochs = 1000\n",
        "for epoch in range(num_epochs):\n",
        "    # Forward pass\n",
        "    outputs = perceptron(input_data)\n",
        "    loss = criterion(outputs, labels)\n",
        "\n",
        "    # Backward pass and optimization\n",
        "    optimizer.zero_grad()\n",
        "    loss.backward()\n",
        "    optimizer.step()\n",
        "\n",
        "    # Print the loss every 100 epochs\n",
        "    if (epoch + 1) % 100 == 0:\n",
        "        print(f'Epoch [{epoch+1}/{num_epochs}], Loss: {loss.item():.4f}')"
      ]
    },
    {
      "cell_type": "markdown",
      "id": "75b840f4",
      "metadata": {},
      "source": [
        "Exercise 8: \n",
        "\n",
        "Implement a binary classification model using the Perceptron class in PyTorch for the logic OR. \n",
        "\n",
        "Your task is to create a Perceptron instance and train it using a proper  dataset and the binary cross-entropy loss with stochastic gradient descent optimizer. \n",
        "\n",
        "Here are the steps you can follow:\n",
        "\n",
        "Define a Perceptron class that inherits from torch.nn.Module and implements a binary classification model.\n",
        "\n",
        "Define a binary cross-entropy loss function using the torch.nn.BCEWithLogitsLoss module.\n",
        "\n",
        "Define a stochastic gradient descent optimizer using the torch.optim.SGD module.\n",
        "\n",
        "Train the Perceptron model on the training set using the binary cross-entropy loss and stochastic gradient descent optimizer.\n",
        "\n",
        "Evaluate the trained model compute the accuracy.\n"
      ]
    },
    {
      "cell_type": "code",
      "execution_count": 17,
      "id": "dc3c5d3e",
      "metadata": {},
      "outputs": [
        {
          "name": "stdout",
          "output_type": "stream",
          "text": [
            "Epoch [100/10000], Loss: 0.7088\n",
            "Epoch [200/10000], Loss: 0.7088\n",
            "Epoch [300/10000], Loss: 0.7088\n",
            "Epoch [400/10000], Loss: 0.7088\n",
            "Epoch [500/10000], Loss: 0.7088\n",
            "Epoch [600/10000], Loss: 0.7088\n",
            "Epoch [700/10000], Loss: 0.7088\n",
            "Epoch [800/10000], Loss: 0.7088\n",
            "Epoch [900/10000], Loss: 0.7088\n",
            "Epoch [1000/10000], Loss: 0.7088\n",
            "Epoch [1100/10000], Loss: 0.7088\n",
            "Epoch [1200/10000], Loss: 0.7088\n",
            "Epoch [1300/10000], Loss: 0.7088\n",
            "Epoch [1400/10000], Loss: 0.7088\n",
            "Epoch [1500/10000], Loss: 0.7088\n",
            "Epoch [1600/10000], Loss: 0.7088\n",
            "Epoch [1700/10000], Loss: 0.7088\n",
            "Epoch [1800/10000], Loss: 0.7088\n",
            "Epoch [1900/10000], Loss: 0.7088\n",
            "Epoch [2000/10000], Loss: 0.7088\n",
            "Epoch [2100/10000], Loss: 0.7088\n",
            "Epoch [2200/10000], Loss: 0.7088\n",
            "Epoch [2300/10000], Loss: 0.7088\n",
            "Epoch [2400/10000], Loss: 0.7088\n",
            "Epoch [2500/10000], Loss: 0.7088\n",
            "Epoch [2600/10000], Loss: 0.7088\n",
            "Epoch [2700/10000], Loss: 0.7088\n",
            "Epoch [2800/10000], Loss: 0.7088\n",
            "Epoch [2900/10000], Loss: 0.7088\n",
            "Epoch [3000/10000], Loss: 0.7088\n",
            "Epoch [3100/10000], Loss: 0.7088\n",
            "Epoch [3200/10000], Loss: 0.7088\n",
            "Epoch [3300/10000], Loss: 0.7088\n",
            "Epoch [3400/10000], Loss: 0.7088\n",
            "Epoch [3500/10000], Loss: 0.7088\n",
            "Epoch [3600/10000], Loss: 0.7088\n",
            "Epoch [3700/10000], Loss: 0.7088\n",
            "Epoch [3800/10000], Loss: 0.7088\n",
            "Epoch [3900/10000], Loss: 0.7088\n",
            "Epoch [4000/10000], Loss: 0.7088\n",
            "Epoch [4100/10000], Loss: 0.7088\n",
            "Epoch [4200/10000], Loss: 0.7088\n",
            "Epoch [4300/10000], Loss: 0.7088\n",
            "Epoch [4400/10000], Loss: 0.7088\n",
            "Epoch [4500/10000], Loss: 0.7088\n",
            "Epoch [4600/10000], Loss: 0.7088\n",
            "Epoch [4700/10000], Loss: 0.7088\n",
            "Epoch [4800/10000], Loss: 0.7088\n",
            "Epoch [4900/10000], Loss: 0.7088\n",
            "Epoch [5000/10000], Loss: 0.7088\n",
            "Epoch [5100/10000], Loss: 0.7088\n",
            "Epoch [5200/10000], Loss: 0.7088\n",
            "Epoch [5300/10000], Loss: 0.7088\n",
            "Epoch [5400/10000], Loss: 0.7088\n",
            "Epoch [5500/10000], Loss: 0.7088\n",
            "Epoch [5600/10000], Loss: 0.7088\n",
            "Epoch [5700/10000], Loss: 0.7088\n",
            "Epoch [5800/10000], Loss: 0.7088\n",
            "Epoch [5900/10000], Loss: 0.7088\n",
            "Epoch [6000/10000], Loss: 0.7088\n",
            "Epoch [6100/10000], Loss: 0.7088\n",
            "Epoch [6200/10000], Loss: 0.7088\n",
            "Epoch [6300/10000], Loss: 0.7088\n",
            "Epoch [6400/10000], Loss: 0.7088\n",
            "Epoch [6500/10000], Loss: 0.7088\n",
            "Epoch [6600/10000], Loss: 0.7088\n",
            "Epoch [6700/10000], Loss: 0.7088\n",
            "Epoch [6800/10000], Loss: 0.7088\n",
            "Epoch [6900/10000], Loss: 0.7088\n",
            "Epoch [7000/10000], Loss: 0.7088\n",
            "Epoch [7100/10000], Loss: 0.7088\n",
            "Epoch [7200/10000], Loss: 0.7088\n",
            "Epoch [7300/10000], Loss: 0.7088\n",
            "Epoch [7400/10000], Loss: 0.7088\n",
            "Epoch [7500/10000], Loss: 0.7088\n",
            "Epoch [7600/10000], Loss: 0.7088\n",
            "Epoch [7700/10000], Loss: 0.7088\n",
            "Epoch [7800/10000], Loss: 0.7088\n",
            "Epoch [7900/10000], Loss: 0.7088\n",
            "Epoch [8000/10000], Loss: 0.7088\n",
            "Epoch [8100/10000], Loss: 0.7088\n",
            "Epoch [8200/10000], Loss: 0.7088\n",
            "Epoch [8300/10000], Loss: 0.7088\n",
            "Epoch [8400/10000], Loss: 0.7088\n",
            "Epoch [8500/10000], Loss: 0.7088\n",
            "Epoch [8600/10000], Loss: 0.7088\n",
            "Epoch [8700/10000], Loss: 0.7088\n",
            "Epoch [8800/10000], Loss: 0.7088\n",
            "Epoch [8900/10000], Loss: 0.7088\n",
            "Epoch [9000/10000], Loss: 0.7088\n",
            "Epoch [9100/10000], Loss: 0.7088\n",
            "Epoch [9200/10000], Loss: 0.7088\n",
            "Epoch [9300/10000], Loss: 0.7088\n",
            "Epoch [9400/10000], Loss: 0.7088\n",
            "Epoch [9500/10000], Loss: 0.7088\n",
            "Epoch [9600/10000], Loss: 0.7088\n",
            "Epoch [9700/10000], Loss: 0.7088\n",
            "Epoch [9800/10000], Loss: 0.7088\n",
            "Epoch [9900/10000], Loss: 0.7088\n",
            "Epoch [10000/10000], Loss: 0.7088\n",
            "Accuracy: 25.00%\n"
          ]
        }
      ],
      "source": [
        "X_train= torch.tensor([[0, 0], [0, 1], [1, 0], [1, 1]], dtype=torch.float32)\n",
        "y_train = torch.tensor([[0], [1], [1], [1]], dtype=torch.float32)\n",
        "\n",
        "###########################################################\n",
        "input_size = 2\n",
        "output_size = 1\n",
        "\n",
        "class Perceptron(torch.nn.Module):\n",
        "    def __init__(self, input_dim, output_dim):\n",
        "        super(Perceptron, self).__init__()\n",
        "        self.linear = torch.nn.Linear(input_dim, output_dim)\n",
        "        \n",
        "    def forward(self, x):\n",
        "        x = self.linear(x)\n",
        "        return x\n",
        "\n",
        "############################################################\n",
        "\n",
        "criterion = nn.BCEWithLogitsLoss()\n",
        "model = Perceptron(input_size, output_size)\n",
        "optimizer = torch.optim.SGD(perceptron.parameters(), lr=0.1)  # Stochastic gradient descent optimizer\n",
        "\n",
        "num_epochs = 10000\n",
        "for epoch in range(num_epochs):\n",
        "    # Forward pass\n",
        "    outputs = model(X_train)\n",
        "    loss = criterion(outputs, y_train)\n",
        "\n",
        "    # Backward pass and optimization\n",
        "    optimizer.zero_grad()\n",
        "    loss.backward()\n",
        "    optimizer.step()\n",
        "\n",
        "    if (epoch + 1) % 100 == 0:\n",
        "        print(f'Epoch [{epoch+1}/{num_epochs}], Loss: {loss.item():.4f}')\n",
        "\n",
        "with torch.no_grad():\n",
        "    predicted = model(X_train)\n",
        "    predicted = (predicted > 0.5).float()  # Convert probabilities to binary predictions\n",
        "    accuracy = (predicted == y_train).float().mean()\n",
        "    print(f'Accuracy: {accuracy.item()*100:.2f}%')"
      ]
    }
  ],
  "metadata": {
    "kernel_info": {
      "name": "python"
    },
    "kernelspec": {
      "display_name": "base",
      "language": "python",
      "name": "python3"
    },
    "language_info": {
      "codemirror_mode": {
        "name": "ipython",
        "version": 3
      },
      "file_extension": ".py",
      "mimetype": "text/x-python",
      "name": "python",
      "nbconvert_exporter": "python",
      "pygments_lexer": "ipython3",
      "version": "3.12.7"
    },
    "nteract": {
      "version": "nteract-front-end@1.0.0"
    }
  },
  "nbformat": 4,
  "nbformat_minor": 5
}
